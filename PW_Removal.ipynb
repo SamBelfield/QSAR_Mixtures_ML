{
 "cells": [
  {
   "cell_type": "code",
   "execution_count": 2,
   "metadata": {},
   "outputs": [],
   "source": [
    "import pandas as pd\n",
    "import numpy as np\n",
    "\n",
    "dataset = pd.read_csv('tetrahymena_padel_withDep.csv')\n",
    "dataf1 = dataset.drop(['Name'], axis = 1)\n",
    "dataf2 = dataset.drop(['Name', 'Dependent'], axis = 1)\n",
    "\n",
    "corrWithDep = dataf1.corr().abs().iloc[0]\n",
    "corrWithVar = dataf2.corr().abs()\n",
    "\n",
    "col_corr = set()\n",
    "\n",
    "for i in range(len(corrWithVar.columns)):\n",
    "    for j in range(i):\n",
    "        if (corrWithVar.iloc[i, j] >= 0.9) and (corrWithVar.columns[i] or corrWithVar.columns[j] not in col_corr):\n",
    "            if (corrWithDep.iloc[i] >= corrWithDep.iloc[j]):\n",
    "                colname = corrWithVar.columns[j]\n",
    "                col_corr.add(colname)\n",
    "            else:\n",
    "                colname = corrWithVar.columns[i]\n",
    "                col_corr.add(colname)\n",
    "                \n",
    "dataset_rmPW = dataset.drop(col_corr, axis = 1)"
   ]
  },
  {
   "cell_type": "code",
   "execution_count": 4,
   "metadata": {},
   "outputs": [],
   "source": [
    "dataset_rmPW.to_csv('tetrahymena_rmPW.csv', header = True, index = True)"
   ]
  },
  {
   "cell_type": "code",
   "execution_count": null,
   "metadata": {},
   "outputs": [],
   "source": []
  }
 ],
 "metadata": {
  "kernelspec": {
   "display_name": "Python 3",
   "language": "python",
   "name": "python3"
  },
  "language_info": {
   "codemirror_mode": {
    "name": "ipython",
    "version": 3
   },
   "file_extension": ".py",
   "mimetype": "text/x-python",
   "name": "python",
   "nbconvert_exporter": "python",
   "pygments_lexer": "ipython3",
   "version": "3.7.6"
  }
 },
 "nbformat": 4,
 "nbformat_minor": 4
}
